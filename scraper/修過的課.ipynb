{
 "cells": [
  {
   "cell_type": "code",
   "execution_count": 2,
   "metadata": {},
   "outputs": [
    {
     "name": "stdout",
     "output_type": "stream",
     "text": [
      "[[\"AMA500\", false, \"2\"], [\"IFDA509\", false, \"2\"], [\"CSA001\", true, \"2\"], [\"CSA011\", true, \"3\"], [\"CSA02A\", true, \"3\"], [\"CSA07A\", true, \"2\"], [\"GR5403\", true, \"2\"], [\"GRA1B0\", true, \"2\"], [\"GRF109\", true, \"0\"], [\"GRS55A\", true, \"0\"], [\"IFDA525\", false, \"0.5\"], [\"IFDA526\", false, \"0.2\"], [\"IFDA534\", false, \"0.3\"], [\"LIB069\", false, \"2\"], [\"SOB95A\", false, \"1\"], [\"CSA02B\", true, \"3\"], [\"CSA041\", true, \"3\"], [\"CSA051\", true, \"3\"], [\"CSA07B\", true, \"2\"], [\"GR5302\", true, \"2\"], [\"GRA0BH\", true, \"2\"], [\"GRA554\", true, \"0\"], [\"GRS55B\", true, \"0\"], [\"CCC544\", false, \"3\"], [\"CCC651\", false, \"3\"], [\"SOA474\", false, \"2\"]]\n"
     ]
    }
   ],
   "source": [
    "# 修過的課\n",
    "import bs4\n",
    "import requests\n",
    "import json\n",
    "import sys\n",
    "doneCourse = []\n",
    "req = requests.Session()  # Seesion 儲存傳給伺服器的(對話)cookies\n",
    "# if you wanna test this code, please input your account and password\n",
    "\n",
    "# ==================== #\n",
    "# 帳號密碼\n",
    "account = 'a1085508'\n",
    "password = 's125367799'\n",
    "# ==================== #\n",
    "\n",
    "req.post('https://aca.nuk.edu.tw/Student2/Menu1.asp',{'Account':account,'Password':password})\n",
    "# Classno is your student ID\n",
    "r = req.post('https://aca.nuk.edu.tw/Student2/SO/ScoreQuery.asp',data={'Classno':''})\n",
    "r.encoding = 'big5'\n",
    "soup = bs4.BeautifulSoup(r.text,'html.parser')\n",
    "soup = soup.select('table[border=\"1\"] tr[align=\"center\"] td')\n",
    "for i in range(int(len(soup)/7)):\n",
    "    compulsory = (soup[i*7+3].text == \"必修\")\n",
    "    doneCourse.append((soup[i*7].text, compulsory, soup[i*7+2].text))\n",
    "    \n",
    "# 印出 done Course\n",
    "print(json.dumps(doneCourse, ensure_ascii=False).encode(\"utf8\",errors='ignore').decode(\"utf8\",errors='ignore'))"
   ]
  },
  {
   "cell_type": "code",
   "execution_count": 3,
   "metadata": {},
   "outputs": [],
   "source": [
    "course_bar = {'A1':0, 'A2':0, 'A3':0, 'B1':0, 'B2':0, 'B3':0, 'B4':0, 'B5':0, 'B6':0, 'C1':0, 'C2':0, 'C3':0}\n",
    "course_credit = {'A1':0, 'A2':0, 'A3':0, 'B1':0, 'B2':0, 'B3':0, 'B4':0, 'B5':0, 'B6':0, 'C1':0, 'C2':0, 'C3':0}\n",
    "for course in doneCourse:\n",
    "    if course[0][0:2] == 'CC':\n",
    "        if course[0][0:4] == 'CCI1':\n",
    "            course_bar['B1'] += 1\n",
    "            course_credit['B1'] += float(course[2])\n",
    "        elif course[0][0:4] == 'CCI2':\n",
    "            course_bar['B2'] += 1\n",
    "            course_credit['B2'] += float(course[2])\n",
    "        elif course[0][0:4] == 'CCO3':\n",
    "            course_bar['B3'] += 1\n",
    "            course_credit['B3'] += float(course[2])\n",
    "        elif course[0][0:4] == 'CCO4':\n",
    "            course_bar['B4'] += 1\n",
    "            course_credit['B4'] += float(course[2])\n",
    "        elif course[0][0:4] == 'CCC5':\n",
    "            course_bar['B5'] += 1\n",
    "            course_credit['B5'] += float(course[2])\n",
    "        elif course[0][0:4] == 'CCC6':\n",
    "            course_bar['B6'] += 1\n",
    "            course_credit['B6'] += float(course[2])\n",
    "    elif course[0][0:2] == 'GR':\n",
    "        course_bar['A3'] += 1\n",
    "        course_credit['A3'] += float(course[2])\n",
    "    elif course[0][0:2] == 'LI':\n",
    "        course_bar['C1'] += 1\n",
    "        course_credit['C1'] += float(course[2])\n",
    "    elif course[0][0:2] == 'SO':\n",
    "        course_bar['C2'] += 1\n",
    "        course_credit['C2'] += float(course[2])\n",
    "    elif course[0][0:2] == 'SC':\n",
    "        course_bar['C3'] += 1\n",
    "        course_credit['C3'] += float(course[2])\n",
    "    else:\n",
    "        if course[1]:\n",
    "            course_bar['A1'] += 1\n",
    "            course_credit['A1'] += float(course[2])\n",
    "        else:\n",
    "            course_bar['A2'] += 1\n",
    "            course_credit['A2'] += float(course[2])\n",
    "        #print(course_credit)\n",
    "# with open('doneCourse.json','w',encoding='utf8') as web:\n",
    "#    web.write(json.dumps(doneCourse, ensure_ascii=False).encode(\"utf8\",errors='ignore').decode(\"utf8\",errors='ignore'))"
   ]
  },
  {
   "cell_type": "code",
   "execution_count": 4,
   "metadata": {},
   "outputs": [
    {
     "data": {
      "text/plain": [
       "45.0"
      ]
     },
     "execution_count": 4,
     "metadata": {},
     "output_type": "execute_result"
    }
   ],
   "source": [
    "# A1 系上必修 : \n",
    "# A2 系上選修 : \n",
    "# A3 共同必修 : 'GR'\n",
    "\n",
    "# B1 核心通識 思維方法 : 'CCI1'\n",
    "# B2 核心通識 美學素養 : 'CCI2'\n",
    "# B3 核心通識 公民素養 : 'CCO3'\n",
    "# B4 核心通識 文化素養 : 'CCO4'\n",
    "# B5 核心通識 科學素養 : 'CCC5'\n",
    "# B6 核心通識 倫理素養 : 'CCC6'\n",
    "\n",
    "# C1 博雅通識 人文科學 : 'LI'\n",
    "# C2 博雅通識 社會科學 : 'SO'\n",
    "# C3 博雅通識 自然科學 : 'SC'\n",
    "\n",
    "sum(course_credit.values())"
   ]
  },
  {
   "cell_type": "code",
   "execution_count": 5,
   "metadata": {},
   "outputs": [
    {
     "data": {
      "text/plain": [
       "{'A1': 21.0,\n",
       " 'A2': 5.0,\n",
       " 'A3': 8.0,\n",
       " 'B1': 0,\n",
       " 'B2': 0,\n",
       " 'B3': 0,\n",
       " 'B4': 0,\n",
       " 'B5': 3.0,\n",
       " 'B6': 3.0,\n",
       " 'C1': 2.0,\n",
       " 'C2': 3.0,\n",
       " 'C3': 0}"
      ]
     },
     "execution_count": 5,
     "metadata": {},
     "output_type": "execute_result"
    }
   ],
   "source": [
    "course_credit"
   ]
  },
  {
   "cell_type": "code",
   "execution_count": 6,
   "metadata": {},
   "outputs": [
    {
     "data": {
      "text/plain": [
       "{'A1': 8,\n",
       " 'A2': 5,\n",
       " 'A3': 8,\n",
       " 'B1': 0,\n",
       " 'B2': 0,\n",
       " 'B3': 0,\n",
       " 'B4': 0,\n",
       " 'B5': 1,\n",
       " 'B6': 1,\n",
       " 'C1': 1,\n",
       " 'C2': 2,\n",
       " 'C3': 0}"
      ]
     },
     "execution_count": 6,
     "metadata": {},
     "output_type": "execute_result"
    }
   ],
   "source": [
    "course_bar"
   ]
  },
  {
   "cell_type": "markdown",
   "metadata": {},
   "source": [
    "## Session 技巧\n",
    "* 儲存與伺服器的紀錄\n",
    "* 連線不中斷\n",
    "\n",
    "`req = requests.Session()`\n",
    "\n",
    "`req.post('https://aca.nuk.edu.tw/Student2/Menu1.asp',{'Account':account,'Password':password})`操作\n",
    "\n",
    "`r = req.post('https://aca.nuk.edu.tw/Student2/SO/ScoreQuery.asp',data={'Classno':''})`存取內容\n",
    "\n",
    "[參考](https://blog.csdn.net/haeasringnar/article/details/82558729)"
   ]
  }
 ],
 "metadata": {
  "kernelspec": {
   "display_name": "Python 3",
   "language": "python",
   "name": "python3"
  },
  "language_info": {
   "codemirror_mode": {
    "name": "ipython",
    "version": 3
   },
   "file_extension": ".py",
   "mimetype": "text/x-python",
   "name": "python",
   "nbconvert_exporter": "python",
   "pygments_lexer": "ipython3",
   "version": "3.7.3"
  }
 },
 "nbformat": 4,
 "nbformat_minor": 4
}
