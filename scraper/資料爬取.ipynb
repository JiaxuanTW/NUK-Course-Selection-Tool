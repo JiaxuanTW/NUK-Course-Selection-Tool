{
 "cells": [
  {
   "cell_type": "markdown",
   "metadata": {},
   "source": [
    "## 套件引入"
   ]
  },
  {
   "cell_type": "code",
   "execution_count": null,
   "metadata": {},
   "outputs": [],
   "source": [
    "import bs4\n",
    "import requests\n",
    "import json"
   ]
  },
  {
   "cell_type": "markdown",
   "metadata": {},
   "source": [
    "## 學期更改\n",
    "* 更新資料改這邊就好"
   ]
  },
  {
   "cell_type": "code",
   "execution_count": null,
   "metadata": {},
   "outputs": [],
   "source": [
    "currentYear = 109\n",
    "currentSemester = 1"
   ]
  },
  {
   "cell_type": "markdown",
   "metadata": {},
   "source": [
    "## 爬蟲程式碼\n",
    "* 感謝 110 級大學長的程式碼\n",
    "* 小弟在此邊上註解"
   ]
  },
  {
   "cell_type": "code",
   "execution_count": 12,
   "metadata": {},
   "outputs": [],
   "source": [
    "# dataform 處理\n",
    "data = '<tr><td+width=\"\"33%\"\">開課學年：' + str(currentYear) + '　　開課學期：第' + str(currentSemester) + '學期</td><td+width=\"\"33%\"\">開課部別：大學部</td><td+width=\"\"34%\"\">開課系所：無</td></tr><tr><td+width=\"\"33%\"\">開課班級：無</td><td+width=\"\"33%\"\">授課教師：無</td><td+width=\"\"34%\"\">上課時間：無</td></tr>'\n",
    "req = requests.post('https://course.nuk.edu.tw/QueryCourse/QueryResult.asp', data = {'Condition':data,'Flag': 1,'OpenYear': currentYear,'Helf': currentSemester,'Pclass': 'A','Sclass': '','Yclass': '','SirName': '','Sirno': '','WeekDay': '','Card': '','Subject': '','Language': '','Pre_Cono': '','Coname': ''})\n",
    "# 編碼問題 \"big5\"\n",
    "req.encoding = 'big5'\n",
    "soup = bs4.BeautifulSoup(req.text,'html.parser')\n",
    "# <tr> 存取每 1 個課程的資料\n",
    "soup = soup.find_all('tr')\n",
    "\n",
    "# i 是要略過非課程的資料\n",
    "i = 0\n",
    "\n",
    "all_course = [] #總課表\n",
    "\n",
    "for ele in soup:\n",
    "    if i<=3:\n",
    "        i+=1\n",
    "        continue\n",
    "    tdSet = ele.find_all('td')\n",
    "\n",
    "    #微學分奇怪的格式 (判斷 : 學分未滿 1 但大於 0)\n",
    "    if float(tdSet[6].text.upper()) < 1.0 and float(tdSet[6].text.upper()) > 0.0:\n",
    "        continue    # 略過囉\n",
    "    tempCourse = {}    # 存取課程的詳細資料[id, dept, name, grade, class, teacher, period, category, credit, location]\n",
    "    tempCourse['id'] = tdSet[0].text.upper() + tdSet[1].text.upper()\n",
    "    tempCourse['dept'] = tdSet[0].text.upper()\n",
    "    tempCourse['name'] = tdSet[5].text\n",
    "    tempCourse['grade'] = tdSet[3].text\n",
    "    tempCourse['class'] = tdSet[4].text\n",
    "    tempCourse['teacher'] = tdSet[12].decode_contents()[0:-5].replace('<br/>',',')\n",
    "    \n",
    "    # 課程時間處理 以 list 存放多個時段\n",
    "    course_time = []\n",
    "    tempCourseTime = []\n",
    "    for i in range(14,21):\n",
    "        if tdSet[i].text != '\\u3000':    # 編碼問題\n",
    "            for day in tdSet[i].text.split(','):\n",
    "                if day == 'X':\n",
    "                    course_time.append([i-13, 0])\n",
    "                elif day == 'Y':\n",
    "                    course_time.append([i-13, 4.5])   # 中午顯示 4.5\n",
    "                else:\n",
    "                    try:\n",
    "                        course_time.append([i-13, int(day)])\n",
    "                    except ValueError:\n",
    "                        print(\"Convert to int error: {}\".format(day))    # 印出錯誤格式\n",
    "                        pass\n",
    "    \n",
    "    tempCourse['period'] = course_time\n",
    "    # 必修以 True 表示, 選修以 False\n",
    "    if tdSet[7].text == '必':\n",
    "        tempCourse['category'] = True\n",
    "    else:\n",
    "        tempCourse['category'] = False\n",
    "    tempCourse['credit'] = tdSet[6].text\n",
    "    tempCourse['location'] = tdSet[13].text\n",
    "    \n",
    "    # 放入字典\n",
    "    all_course.append(tempCourse)\n",
    "    \n",
    "# JSON存檔\n",
    "with open('AllCourse.json','w',encoding='utf8') as f:\n",
    "    f.write(json.dumps(all_course, ensure_ascii=False).encode(\"utf8\",errors='ignore').decode(\"utf8\",errors='ignore'))"
   ]
  },
  {
   "cell_type": "code",
   "execution_count": null,
   "metadata": {},
   "outputs": [],
   "source": []
  }
 ],
 "metadata": {
  "kernelspec": {
   "display_name": "Python 3",
   "language": "python",
   "name": "python3"
  },
  "language_info": {
   "codemirror_mode": {
    "name": "ipython",
    "version": 3
   },
   "file_extension": ".py",
   "mimetype": "text/x-python",
   "name": "python",
   "nbconvert_exporter": "python",
   "pygments_lexer": "ipython3",
   "version": "3.7.3"
  }
 },
 "nbformat": 4,
 "nbformat_minor": 2
}
